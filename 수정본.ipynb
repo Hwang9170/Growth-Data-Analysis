{
 "cells": [
  {
   "cell_type": "code",
   "execution_count": null,
   "metadata": {},
   "outputs": [],
   "source": [
    "from sklearn.model_selection import train_test_split\n",
    "from sklearn.linear_model import LinearRegression\n",
    "from sklearn.ensemble import RandomForestRegressor\n",
    "from sklearn.metrics import mean_squared_error, r2_score\n",
    "import numpy as np\n",
    "\n",
    "# 데이터 불러오기\n",
    "import pandas as pd\n",
    "data = pd.read_csv('/mnt/data/temperature_humidity_solar_quality_data.csv')\n",
    "\n",
    "# 입력 변수 (온도, 습도, 일사량)\n",
    "X = data[['Temperature', 'Humidity', 'Solar Radiation']]\n",
    "\n",
    "# 출력 변수 (당도, 산도, 비타민 C)\n",
    "y = data[['Sugar Content (Brix)', 'Acidity (pH)', 'Vitamin C (mg/100g)']]\n",
    "\n",
    "# 훈련 데이터와 테스트 데이터 분리\n",
    "X_train, X_test, y_train, y_test = train_test_split(X, y, test_size=0.2, random_state=42)\n",
    "\n",
    "# 1. 다중 선형 회귀 모델\n",
    "linear_model = LinearRegression()\n",
    "linear_model.fit(X_train, y_train)\n",
    "\n",
    "# 예측\n",
    "y_pred_linear = linear_model.predict(X_test)\n",
    "\n",
    "# 성능 평가\n",
    "linear_mse = mean_squared_error(y_test, y_pred_linear)\n",
    "linear_r2 = r2_score(y_test, y_pred_linear)\n",
    "\n",
    "# 2. 랜덤 포레스트 모델\n",
    "rf_model = RandomForestRegressor(n_estimators=100, random_state=42)\n",
    "rf_model.fit(X_train, y_train)\n",
    "\n",
    "# 예측\n",
    "y_pred_rf = rf_model.predict(X_test)\n",
    "\n",
    "# 성능 평가\n",
    "rf_mse = mean_squared_error(y_test, y_pred_rf)\n",
    "rf_r2 = r2_score(y_test, y_pred_rf)\n",
    "\n",
    "linear_mse, linear_r2, rf_mse, rf_r2\n"
   ]
  }
 ],
 "metadata": {
  "language_info": {
   "name": "python"
  }
 },
 "nbformat": 4,
 "nbformat_minor": 2
}
