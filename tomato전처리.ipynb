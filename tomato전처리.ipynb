{
 "cells": [
  {
   "cell_type": "markdown",
   "metadata": {},
   "source": [
    "전처리"
   ]
  },
  {
   "cell_type": "code",
   "execution_count": 4,
   "metadata": {},
   "outputs": [
    {
     "name": "stdout",
     "output_type": "stream",
     "text": [
      "<class 'pandas.core.frame.DataFrame'>\n",
      "RangeIndex: 11656 entries, 0 to 11655\n",
      "Data columns (total 9 columns):\n",
      " #   Column  Non-Null Count  Dtype  \n",
      "---  ------  --------------  -----  \n",
      " 0   수집일자    11656 non-null  object \n",
      " 1   건구 온도   11656 non-null  float64\n",
      " 2   습구 온도   11656 non-null  float64\n",
      " 3   근권      11656 non-null  float64\n",
      " 4   상대 습도   11656 non-null  float64\n",
      " 5   절대 습도   11656 non-null  float64\n",
      " 6   이슬점     11656 non-null  float64\n",
      " 7   수분 부족   11656 non-null  float64\n",
      " 8   이산화탄소   11656 non-null  int64  \n",
      "dtypes: float64(7), int64(1), object(1)\n",
      "memory usage: 819.7+ KB\n"
     ]
    },
    {
     "data": {
      "text/plain": [
       "(None,\n",
       "                 수집일자  건구 온도  습구 온도   근권  상대 습도  절대 습도  이슬점  수분 부족  이산화탄소\n",
       " 0  1/9/2021 00:03:00    8.2    6.3  7.3   76.3    6.4  4.3    2.0   1037\n",
       " 1  1/9/2021 00:08:00    8.2    6.5  7.3   77.9    6.6  4.6    1.9   1040\n",
       " 2  1/9/2021 00:13:00    8.1    6.5  7.3   78.6    6.6  4.6    1.8   1041\n",
       " 3  1/9/2021 00:18:00    8.1    6.6  7.4   80.9    6.8  5.1    1.6   1038\n",
       " 4  1/9/2021 00:23:00    8.1    6.7  7.4   81.7    6.9  5.2    1.5   1035)"
      ]
     },
     "execution_count": 4,
     "metadata": {},
     "output_type": "execute_result"
    }
   ],
   "source": [
    "import pandas as pd\n",
    "\n",
    "# 업로드된 파일 경로\n",
    "file_path = 'tomato.csv'\n",
    "\n",
    "# 파일 읽기\n",
    "try:\n",
    "    tomato_data = pd.read_csv(file_path)\n",
    "    tomato_data_info = tomato_data.info()  # 데이터 정보 확인\n",
    "    tomato_data_head = tomato_data.head()  # 데이터 첫 5행 미리보기\n",
    "except Exception as e:\n",
    "    tomato_data_info = str(e)\n",
    "    tomato_data_head = None\n",
    "\n",
    "tomato_data_info, tomato_data_head\n",
    "\n",
    "\n"
   ]
  },
  {
   "cell_type": "code",
   "execution_count": 7,
   "metadata": {},
   "outputs": [
    {
     "name": "stdout",
     "output_type": "stream",
     "text": [
      "'6222'개의 수집일자 값이 변환되지 않았습니다. 데이터 확인이 필요합니다.\n",
      "잘못된 수집일자 값들:\n",
      "      수집일자  건구 온도  습구 온도    근권  상대 습도  절대 습도   이슬점  수분 부족  이산화탄소\n",
      "3455   NaT    7.4    7.0   6.3   95.1    7.6   6.7    0.4   1064\n",
      "3456   NaT    8.1    8.0   7.5   97.7    8.2   7.8    0.2   1067\n",
      "3457   NaT    9.0    9.0   8.8   99.9    8.9   9.0    0.0   1072\n",
      "3458   NaT    8.8    8.6   8.4   97.8    8.6   8.5    0.2   1080\n",
      "3459   NaT    8.1    7.6   7.2   94.4    7.9   7.2    0.5   1083\n",
      "...    ...    ...    ...   ...    ...    ...   ...    ...    ...\n",
      "11651  NaT   10.9   10.7  10.7   97.9    9.7  10.6    0.2    833\n",
      "11652  NaT   10.3    9.8  10.3   93.4    9.0   9.3    0.6    828\n",
      "11653  NaT   10.2    9.8  10.0   94.9    9.0   9.4    0.5    825\n",
      "11654  NaT   10.4   10.1  10.1   96.4    9.3   9.9    0.3    822\n",
      "11655  NaT   10.6   10.4  10.3   97.2    9.5  10.2    0.3    822\n",
      "\n",
      "[6222 rows x 9 columns]\n"
     ]
    }
   ],
   "source": [
    "# 날짜 데이터를 datetime 형식으로 변환 (오류 값은 NaT로 처리)\n",
    "tomato_data['수집일자'] = pd.to_datetime(tomato_data['수집일자'], errors='coerce')\n",
    "\n",
    "# 변환되지 않은 값 확인\n",
    "invalid_dates = tomato_data['수집일자'].isnull().sum()\n",
    "if invalid_dates > 0:\n",
    "    print(f\"'{invalid_dates}'개의 수집일자 값이 변환되지 않았습니다. 데이터 확인이 필요합니다.\")\n",
    "# 변환에 실패한 행 출력\n",
    "invalid_rows = tomato_data[tomato_data['수집일자'].isnull()]\n",
    "print(\"잘못된 수집일자 값들:\")\n",
    "print(invalid_rows)\n"
   ]
  },
  {
   "cell_type": "code",
   "execution_count": 5,
   "metadata": {},
   "outputs": [
    {
     "ename": "ValueError",
     "evalue": "time data \"13/9/2021 00:00:00\" doesn't match format \"%m/%d/%Y %H:%M:%S\", at position 3455. You might want to try:\n    - passing `format` if your strings have a consistent format;\n    - passing `format='ISO8601'` if your strings are all ISO8601 but not necessarily in exactly the same format;\n    - passing `format='mixed'`, and the format will be inferred for each element individually. You might want to use `dayfirst` alongside this.",
     "output_type": "error",
     "traceback": [
      "\u001b[0;31m---------------------------------------------------------------------------\u001b[0m",
      "\u001b[0;31mValueError\u001b[0m                                Traceback (most recent call last)",
      "Cell \u001b[0;32mIn[5], line 11\u001b[0m\n\u001b[1;32m      8\u001b[0m tomato_data \u001b[38;5;241m=\u001b[39m pd\u001b[38;5;241m.\u001b[39mread_csv(file_path)\n\u001b[1;32m     10\u001b[0m \u001b[38;5;66;03m# 날짜 데이터를 datetime 형식으로 변환\u001b[39;00m\n\u001b[0;32m---> 11\u001b[0m tomato_data[\u001b[38;5;124m'\u001b[39m\u001b[38;5;124m수집일자\u001b[39m\u001b[38;5;124m'\u001b[39m] \u001b[38;5;241m=\u001b[39m \u001b[43mpd\u001b[49m\u001b[38;5;241;43m.\u001b[39;49m\u001b[43mto_datetime\u001b[49m\u001b[43m(\u001b[49m\u001b[43mtomato_data\u001b[49m\u001b[43m[\u001b[49m\u001b[38;5;124;43m'\u001b[39;49m\u001b[38;5;124;43m수집일자\u001b[39;49m\u001b[38;5;124;43m'\u001b[39;49m\u001b[43m]\u001b[49m\u001b[43m)\u001b[49m\n\u001b[1;32m     13\u001b[0m \u001b[38;5;66;03m# 품질 기준에 따른 품질 라벨링 함수\u001b[39;00m\n\u001b[1;32m     14\u001b[0m \u001b[38;5;28;01mdef\u001b[39;00m \u001b[38;5;21mlabel_quality\u001b[39m(row):\n",
      "File \u001b[0;32m~/Library/Python/3.9/lib/python/site-packages/pandas/core/tools/datetimes.py:1067\u001b[0m, in \u001b[0;36mto_datetime\u001b[0;34m(arg, errors, dayfirst, yearfirst, utc, format, exact, unit, infer_datetime_format, origin, cache)\u001b[0m\n\u001b[1;32m   1065\u001b[0m         result \u001b[38;5;241m=\u001b[39m arg\u001b[38;5;241m.\u001b[39mmap(cache_array)\n\u001b[1;32m   1066\u001b[0m     \u001b[38;5;28;01melse\u001b[39;00m:\n\u001b[0;32m-> 1067\u001b[0m         values \u001b[38;5;241m=\u001b[39m \u001b[43mconvert_listlike\u001b[49m\u001b[43m(\u001b[49m\u001b[43marg\u001b[49m\u001b[38;5;241;43m.\u001b[39;49m\u001b[43m_values\u001b[49m\u001b[43m,\u001b[49m\u001b[43m \u001b[49m\u001b[38;5;28;43mformat\u001b[39;49m\u001b[43m)\u001b[49m\n\u001b[1;32m   1068\u001b[0m         result \u001b[38;5;241m=\u001b[39m arg\u001b[38;5;241m.\u001b[39m_constructor(values, index\u001b[38;5;241m=\u001b[39marg\u001b[38;5;241m.\u001b[39mindex, name\u001b[38;5;241m=\u001b[39marg\u001b[38;5;241m.\u001b[39mname)\n\u001b[1;32m   1069\u001b[0m \u001b[38;5;28;01melif\u001b[39;00m \u001b[38;5;28misinstance\u001b[39m(arg, (ABCDataFrame, abc\u001b[38;5;241m.\u001b[39mMutableMapping)):\n",
      "File \u001b[0;32m~/Library/Python/3.9/lib/python/site-packages/pandas/core/tools/datetimes.py:433\u001b[0m, in \u001b[0;36m_convert_listlike_datetimes\u001b[0;34m(arg, format, name, utc, unit, errors, dayfirst, yearfirst, exact)\u001b[0m\n\u001b[1;32m    431\u001b[0m \u001b[38;5;66;03m# `format` could be inferred, or user didn't ask for mixed-format parsing.\u001b[39;00m\n\u001b[1;32m    432\u001b[0m \u001b[38;5;28;01mif\u001b[39;00m \u001b[38;5;28mformat\u001b[39m \u001b[38;5;129;01mis\u001b[39;00m \u001b[38;5;129;01mnot\u001b[39;00m \u001b[38;5;28;01mNone\u001b[39;00m \u001b[38;5;129;01mand\u001b[39;00m \u001b[38;5;28mformat\u001b[39m \u001b[38;5;241m!=\u001b[39m \u001b[38;5;124m\"\u001b[39m\u001b[38;5;124mmixed\u001b[39m\u001b[38;5;124m\"\u001b[39m:\n\u001b[0;32m--> 433\u001b[0m     \u001b[38;5;28;01mreturn\u001b[39;00m \u001b[43m_array_strptime_with_fallback\u001b[49m\u001b[43m(\u001b[49m\u001b[43marg\u001b[49m\u001b[43m,\u001b[49m\u001b[43m \u001b[49m\u001b[43mname\u001b[49m\u001b[43m,\u001b[49m\u001b[43m \u001b[49m\u001b[43mutc\u001b[49m\u001b[43m,\u001b[49m\u001b[43m \u001b[49m\u001b[38;5;28;43mformat\u001b[39;49m\u001b[43m,\u001b[49m\u001b[43m \u001b[49m\u001b[43mexact\u001b[49m\u001b[43m,\u001b[49m\u001b[43m \u001b[49m\u001b[43merrors\u001b[49m\u001b[43m)\u001b[49m\n\u001b[1;32m    435\u001b[0m result, tz_parsed \u001b[38;5;241m=\u001b[39m objects_to_datetime64(\n\u001b[1;32m    436\u001b[0m     arg,\n\u001b[1;32m    437\u001b[0m     dayfirst\u001b[38;5;241m=\u001b[39mdayfirst,\n\u001b[0;32m   (...)\u001b[0m\n\u001b[1;32m    441\u001b[0m     allow_object\u001b[38;5;241m=\u001b[39m\u001b[38;5;28;01mTrue\u001b[39;00m,\n\u001b[1;32m    442\u001b[0m )\n\u001b[1;32m    444\u001b[0m \u001b[38;5;28;01mif\u001b[39;00m tz_parsed \u001b[38;5;129;01mis\u001b[39;00m \u001b[38;5;129;01mnot\u001b[39;00m \u001b[38;5;28;01mNone\u001b[39;00m:\n\u001b[1;32m    445\u001b[0m     \u001b[38;5;66;03m# We can take a shortcut since the datetime64 numpy array\u001b[39;00m\n\u001b[1;32m    446\u001b[0m     \u001b[38;5;66;03m# is in UTC\u001b[39;00m\n",
      "File \u001b[0;32m~/Library/Python/3.9/lib/python/site-packages/pandas/core/tools/datetimes.py:467\u001b[0m, in \u001b[0;36m_array_strptime_with_fallback\u001b[0;34m(arg, name, utc, fmt, exact, errors)\u001b[0m\n\u001b[1;32m    456\u001b[0m \u001b[38;5;28;01mdef\u001b[39;00m \u001b[38;5;21m_array_strptime_with_fallback\u001b[39m(\n\u001b[1;32m    457\u001b[0m     arg,\n\u001b[1;32m    458\u001b[0m     name,\n\u001b[0;32m   (...)\u001b[0m\n\u001b[1;32m    462\u001b[0m     errors: \u001b[38;5;28mstr\u001b[39m,\n\u001b[1;32m    463\u001b[0m ) \u001b[38;5;241m-\u001b[39m\u001b[38;5;241m>\u001b[39m Index:\n\u001b[1;32m    464\u001b[0m \u001b[38;5;250m    \u001b[39m\u001b[38;5;124;03m\"\"\"\u001b[39;00m\n\u001b[1;32m    465\u001b[0m \u001b[38;5;124;03m    Call array_strptime, with fallback behavior depending on 'errors'.\u001b[39;00m\n\u001b[1;32m    466\u001b[0m \u001b[38;5;124;03m    \"\"\"\u001b[39;00m\n\u001b[0;32m--> 467\u001b[0m     result, tz_out \u001b[38;5;241m=\u001b[39m \u001b[43marray_strptime\u001b[49m\u001b[43m(\u001b[49m\u001b[43marg\u001b[49m\u001b[43m,\u001b[49m\u001b[43m \u001b[49m\u001b[43mfmt\u001b[49m\u001b[43m,\u001b[49m\u001b[43m \u001b[49m\u001b[43mexact\u001b[49m\u001b[38;5;241;43m=\u001b[39;49m\u001b[43mexact\u001b[49m\u001b[43m,\u001b[49m\u001b[43m \u001b[49m\u001b[43merrors\u001b[49m\u001b[38;5;241;43m=\u001b[39;49m\u001b[43merrors\u001b[49m\u001b[43m,\u001b[49m\u001b[43m \u001b[49m\u001b[43mutc\u001b[49m\u001b[38;5;241;43m=\u001b[39;49m\u001b[43mutc\u001b[49m\u001b[43m)\u001b[49m\n\u001b[1;32m    468\u001b[0m     \u001b[38;5;28;01mif\u001b[39;00m tz_out \u001b[38;5;129;01mis\u001b[39;00m \u001b[38;5;129;01mnot\u001b[39;00m \u001b[38;5;28;01mNone\u001b[39;00m:\n\u001b[1;32m    469\u001b[0m         unit \u001b[38;5;241m=\u001b[39m np\u001b[38;5;241m.\u001b[39mdatetime_data(result\u001b[38;5;241m.\u001b[39mdtype)[\u001b[38;5;241m0\u001b[39m]\n",
      "File \u001b[0;32mstrptime.pyx:501\u001b[0m, in \u001b[0;36mpandas._libs.tslibs.strptime.array_strptime\u001b[0;34m()\u001b[0m\n",
      "File \u001b[0;32mstrptime.pyx:451\u001b[0m, in \u001b[0;36mpandas._libs.tslibs.strptime.array_strptime\u001b[0;34m()\u001b[0m\n",
      "File \u001b[0;32mstrptime.pyx:583\u001b[0m, in \u001b[0;36mpandas._libs.tslibs.strptime._parse_with_format\u001b[0;34m()\u001b[0m\n",
      "\u001b[0;31mValueError\u001b[0m: time data \"13/9/2021 00:00:00\" doesn't match format \"%m/%d/%Y %H:%M:%S\", at position 3455. You might want to try:\n    - passing `format` if your strings have a consistent format;\n    - passing `format='ISO8601'` if your strings are all ISO8601 but not necessarily in exactly the same format;\n    - passing `format='mixed'`, and the format will be inferred for each element individually. You might want to use `dayfirst` alongside this."
     ]
    }
   ],
   "source": [
    "# 필요한 라이브러리 불러오기\n",
    "import pandas as pd\n",
    "import matplotlib.pyplot as plt\n",
    "import seaborn as sns\n",
    "\n",
    "# CSV 파일 읽기 (파일 경로를 자신의 파일 경로로 변경하세요)\n",
    "file_path = 'tomato.csv'  # 예: 'C:/data/tomato.csv'\n",
    "tomato_data = pd.read_csv(file_path)\n",
    "\n",
    "# 날짜 데이터를 datetime 형식으로 변환\n",
    "tomato_data['수집일자'] = pd.to_datetime(tomato_data['수집일자'])\n",
    "\n",
    "# 품질 기준에 따른 품질 라벨링 함수\n",
    "def label_quality(row):\n",
    "    if 8 <= row['건구 온도'] <= 12 and row['상대 습도'] >= 90 and 800 <= row['이산화탄소'] <= 1000:\n",
    "        return \"좋음\"\n",
    "    elif 6 <= row['건구 온도'] <= 14 and 80 <= row['상대 습도'] < 90 and (600 <= row['이산화탄소'] < 800 or 1000 < row['이산화탄소'] <= 1100):\n",
    "        return \"보통\"\n",
    "    else:\n",
    "        return \"나쁨\"\n",
    "\n",
    "# 품질 라벨링 적용\n",
    "tomato_data['품질'] = tomato_data.apply(label_quality, axis=1)\n",
    "\n",
    "# 품질 분포 시각화\n",
    "plt.figure(figsize=(8, 6))\n",
    "sns.countplot(data=tomato_data, x='품질', palette='coolwarm', order=[\"좋음\", \"보통\", \"나쁨\"])\n",
    "plt.title('토마토 품질 분포', fontsize=16)\n",
    "plt.xlabel('품질', fontsize=14)\n",
    "plt.ylabel('개수', fontsize=14)\n",
    "plt.xticks(fontsize=12)\n",
    "plt.yticks(fontsize=12)\n",
    "plt.show()\n"
   ]
  },
  {
   "cell_type": "code",
   "execution_count": null,
   "metadata": {},
   "outputs": [],
   "source": []
  },
  {
   "cell_type": "code",
   "execution_count": null,
   "metadata": {},
   "outputs": [],
   "source": []
  },
  {
   "cell_type": "code",
   "execution_count": null,
   "metadata": {},
   "outputs": [],
   "source": []
  }
 ],
 "metadata": {
  "kernelspec": {
   "display_name": "Python 3",
   "language": "python",
   "name": "python3"
  },
  "language_info": {
   "codemirror_mode": {
    "name": "ipython",
    "version": 3
   },
   "file_extension": ".py",
   "mimetype": "text/x-python",
   "name": "python",
   "nbconvert_exporter": "python",
   "pygments_lexer": "ipython3",
   "version": "3.9.6"
  }
 },
 "nbformat": 4,
 "nbformat_minor": 2
}
